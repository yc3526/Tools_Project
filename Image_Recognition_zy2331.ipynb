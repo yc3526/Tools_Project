{
 "cells": [
  {
   "cell_type": "code",
   "execution_count": null,
   "metadata": {
    "collapsed": true
   },
   "outputs": [],
   "source": [
    "import pylab as pl\n",
    "import cv2\n",
    "from PIL import Image\n",
    "import numpy as np\n",
    "from sklearn.datasets import fetch_mldata\n",
    "mnist = fetch_mldata('MNIST original', data_home='C:/Users/DELL/Desktop/Python_tools') #data directory need to change\n",
    "from sklearn.preprocessing import OneHotEncoder\n",
    "    \n",
    "# build up KNN model\n",
    "mnist = fetch_mldata('MNIST original', data_home='C:/Users/DELL/Desktop/Python_tools')\n",
    "X = mnist.data\n",
    "y = mnist.target\n",
    "y = y.reshape(70000,1)\n",
    "# transform sigle number result into matrix\n",
    "encoder = OneHotEncoder(sparse=False)\n",
    "y_onehot = encoder.fit_transform(y)\n",
    "from sklearn.neighbors import KNeighborsClassifier\n",
    "knn = KNeighborsClassifier(n_neighbors=10,weights='distance')\n",
    "knn.fit(X,y)\n",
    "\n",
    "\n",
    "\n",
    "def image_recognition(filename):\n",
    "    # resize image\n",
    "    pic = cv2.imread(filename)\n",
    "    pic = cv2.resize(pic, (28, 28), interpolation=cv2.INTER_CUBIC)\n",
    "    cv2.imwrite('im.png',pic)\n",
    "\n",
    "    # reopen image\n",
    "    img = Image.open(\"2.png\")\n",
    "    #gray\n",
    "    img = img.convert(\"L\")\n",
    "    # convert to matrix\n",
    "    I = np.asarray(img)\n",
    "    # flatten\n",
    "    raw = I.reshape(1,784).tolist()[0]\n",
    "    \n",
    "    # use KNN model\n",
    "    result_knn = knn.predict(raw)\n",
    "    return int(result_knn[0])"
   ]
  }
 ],
 "metadata": {
  "kernelspec": {
   "display_name": "Python 3",
   "language": "python",
   "name": "python3"
  },
  "language_info": {
   "codemirror_mode": {
    "name": "ipython",
    "version": 3
   },
   "file_extension": ".py",
   "mimetype": "text/x-python",
   "name": "python",
   "nbconvert_exporter": "python",
   "pygments_lexer": "ipython3",
   "version": "3.6.1"
  }
 },
 "nbformat": 4,
 "nbformat_minor": 2
}
